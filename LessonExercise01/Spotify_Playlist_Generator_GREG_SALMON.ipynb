{
 "cells": [
  {
   "cell_type": "markdown",
   "id": "silver-mobile",
   "metadata": {
    "id": "silver-mobile"
   },
   "source": [
    "# Related Artists Spotify Playlist Generator aka RASPG\n",
    "http://bit.ly/spotify-playlist-generator-template"
   ]
  },
  {
   "cell_type": "markdown",
   "id": "paperback-bidding",
   "metadata": {
    "id": "paperback-bidding"
   },
   "source": [
    "## Account Setup\n",
    "1. Log in to https://spotify.com\n",
    "2. Go to https://developer.spotify.com/dashboard/ (log in if needed) to set up a Spotify Developer account"
   ]
  },
  {
   "cell_type": "markdown",
   "id": "objective-viewer",
   "metadata": {
    "id": "objective-viewer"
   },
   "source": [
    "## Workflow\n",
    "1. Get Artist\n",
    "2. Get Related Artists\n",
    "3. Create Empty Playlist\n",
    "4. Loop Through Artist and Related Artists \n",
    "    - 4.1 Get Artist's Top Tracks \n",
    "    - 4.2 Add Tracks to Playlist "
   ]
  },
  {
   "cell_type": "markdown",
   "id": "rolled-withdrawal",
   "metadata": {
    "id": "rolled-withdrawal"
   },
   "source": [
    "### Explore API endpoints in the Spotify Web API Console  \n",
    "https://developer.spotify.com/console/"
   ]
  },
  {
   "cell_type": "markdown",
   "id": "collective-crest",
   "metadata": {
    "id": "collective-crest"
   },
   "source": [
    "![](https://developer.spotify.com/assets/WebAPI_intro.png)"
   ]
  },
  {
   "cell_type": "markdown",
   "id": "broadband-repeat",
   "metadata": {
    "id": "broadband-repeat"
   },
   "source": [
    "### Web API Reference  \n",
    "https://developer.spotify.com/documentation/web-api/reference/"
   ]
  },
  {
   "cell_type": "code",
   "execution_count": 1,
   "id": "4859617d",
   "metadata": {},
   "outputs": [],
   "source": [
    "# import package to make web API requests\n",
    "import requests\n",
    "# import json package to decode json\n",
    "import json"
   ]
  },
  {
   "cell_type": "code",
   "execution_count": 98,
   "id": "72c87b45",
   "metadata": {},
   "outputs": [],
   "source": [
    "# Authentication\n",
    "oauth_token = 'BQBdU2g_-ZQrhapbHPMBf35n19dvYXl1DwlVs0b1R-HS1F5qJL1xgyyjNp9XylFrauD6QxWLNFPtfRUVdzONpGs5Tx6N-PgOUKNOaLiPRgP2oFrhEbOKhEdrWvjiM9xk8ObSvoXoTrU7EE4YoR0fInkocETF0s19UX9bEg7L1EmJFDgt4vZ3GbqRQ1GFRp7i5dIvP9G8nWSw'\n",
    "headers = {'Authorization': f'Bearer {oauth_token}'}"
   ]
  },
  {
   "cell_type": "markdown",
   "id": "8baec7d2",
   "metadata": {
    "id": "dimensional-factory"
   },
   "source": [
    "# Get Artist"
   ]
  },
  {
   "cell_type": "code",
   "execution_count": 99,
   "id": "608eadcc",
   "metadata": {},
   "outputs": [],
   "source": [
    "# Retrieved from: https://open.spotify.com/artist/3GBPw9NK25X1Wt2OUvOwY3\n",
    "source_artist_id = '3GBPw9NK25X1Wt2OUvOwY3'"
   ]
  },
  {
   "cell_type": "code",
   "execution_count": 100,
   "id": "6842bcfd",
   "metadata": {},
   "outputs": [],
   "source": [
    "artist_endpoint_url = f'https://api.spotify.com/v1/artists/{source_artist_id}'\n",
    "# Make artist API request\n",
    "artist_api_request = requests.get(artist_endpoint_url, headers = headers)"
   ]
  },
  {
   "cell_type": "code",
   "execution_count": 101,
   "id": "2ce29335",
   "metadata": {},
   "outputs": [
    {
     "data": {
      "text/plain": [
       "<Response [200]>"
      ]
     },
     "execution_count": 101,
     "metadata": {},
     "output_type": "execute_result"
    }
   ],
   "source": [
    "artist_api_request"
   ]
  },
  {
   "cell_type": "code",
   "execution_count": 102,
   "id": "45742f9c",
   "metadata": {},
   "outputs": [
    {
     "data": {
      "text/plain": [
       "'{\\n  \"external_urls\" : {\\n    \"spotify\" : \"https://open.spotify.com/artist/3GBPw9NK25X1Wt2OUvOwY3\"\\n  },\\n  \"followers\" : {\\n    \"href\" : null,\\n    \"total\" : 3545730\\n  },\\n  \"genres\" : [ \"neo mellow\" ],\\n  \"href\" : \"https://api.spotify.com/v1/artists/3GBPw9NK25X1Wt2OUvOwY3\",\\n  \"id\" : \"3GBPw9NK25X1Wt2OUvOwY3\",\\n  \"images\" : [ {\\n    \"height\" : 640,\\n    \"url\" : \"https://i.scdn.co/image/ab6761610000e5eb9555a0b3231117c8cde1fca7\",\\n    \"width\" : 640\\n  }, {\\n    \"height\" : 320,\\n    \"url\" : \"https://i.scdn.co/image/ab676161000051749555a0b3231117c8cde1fca7\",\\n    \"width\" : 320\\n  }, {\\n    \"height\" : 160,\\n    \"url\" : \"https://i.scdn.co/image/ab6761610000f1789555a0b3231117c8cde1fca7\",\\n    \"width\" : 160\\n  } ],\\n  \"name\" : \"Jack Johnson\",\\n  \"popularity\" : 77,\\n  \"type\" : \"artist\",\\n  \"uri\" : \"spotify:artist:3GBPw9NK25X1Wt2OUvOwY3\"\\n}'"
      ]
     },
     "execution_count": 102,
     "metadata": {},
     "output_type": "execute_result"
    }
   ],
   "source": [
    "artist_api_request.text"
   ]
  },
  {
   "cell_type": "code",
   "execution_count": 103,
   "id": "d9cc1140",
   "metadata": {},
   "outputs": [
    {
     "data": {
      "text/plain": [
       "{'external_urls': {'spotify': 'https://open.spotify.com/artist/3GBPw9NK25X1Wt2OUvOwY3'},\n",
       " 'followers': {'href': None, 'total': 3545730},\n",
       " 'genres': ['neo mellow'],\n",
       " 'href': 'https://api.spotify.com/v1/artists/3GBPw9NK25X1Wt2OUvOwY3',\n",
       " 'id': '3GBPw9NK25X1Wt2OUvOwY3',\n",
       " 'images': [{'height': 640,\n",
       "   'url': 'https://i.scdn.co/image/ab6761610000e5eb9555a0b3231117c8cde1fca7',\n",
       "   'width': 640},\n",
       "  {'height': 320,\n",
       "   'url': 'https://i.scdn.co/image/ab676161000051749555a0b3231117c8cde1fca7',\n",
       "   'width': 320},\n",
       "  {'height': 160,\n",
       "   'url': 'https://i.scdn.co/image/ab6761610000f1789555a0b3231117c8cde1fca7',\n",
       "   'width': 160}],\n",
       " 'name': 'Jack Johnson',\n",
       " 'popularity': 77,\n",
       " 'type': 'artist',\n",
       " 'uri': 'spotify:artist:3GBPw9NK25X1Wt2OUvOwY3'}"
      ]
     },
     "execution_count": 103,
     "metadata": {},
     "output_type": "execute_result"
    }
   ],
   "source": [
    "json.loads(artist_api_request.text)"
   ]
  },
  {
   "cell_type": "code",
   "execution_count": 104,
   "id": "3807087c",
   "metadata": {},
   "outputs": [],
   "source": [
    "artist_api_response = json.loads(artist_api_request.text)"
   ]
  },
  {
   "cell_type": "code",
   "execution_count": 105,
   "id": "c7f96e99",
   "metadata": {},
   "outputs": [
    {
     "data": {
      "text/plain": [
       "dict"
      ]
     },
     "execution_count": 105,
     "metadata": {},
     "output_type": "execute_result"
    }
   ],
   "source": [
    "type(artist_api_response)"
   ]
  },
  {
   "cell_type": "code",
   "execution_count": 106,
   "id": "fa9af9d6",
   "metadata": {
    "scrolled": true
   },
   "outputs": [
    {
     "data": {
      "text/plain": [
       "'Jack Johnson'"
      ]
     },
     "execution_count": 106,
     "metadata": {},
     "output_type": "execute_result"
    }
   ],
   "source": [
    "artist_api_response['name']"
   ]
  },
  {
   "cell_type": "code",
   "execution_count": 107,
   "id": "55691ece",
   "metadata": {},
   "outputs": [],
   "source": [
    "source_artist_name = artist_api_response['name']"
   ]
  },
  {
   "cell_type": "markdown",
   "id": "298bb60f",
   "metadata": {},
   "source": [
    "# Get Related Artist"
   ]
  },
  {
   "cell_type": "code",
   "execution_count": 108,
   "id": "1a7aa23a",
   "metadata": {},
   "outputs": [],
   "source": [
    "related_artist_endpoint_url = f'https://api.spotify.com/v1/artists/{source_artist_id}/related-artists'\n",
    "# make related artist API request\n",
    "related_artist_api_request = requests.get(related_artist_endpoint_url, headers = headers)"
   ]
  },
  {
   "cell_type": "code",
   "execution_count": 109,
   "id": "b87fdf80",
   "metadata": {},
   "outputs": [
    {
     "data": {
      "text/plain": [
       "<Response [200]>"
      ]
     },
     "execution_count": 109,
     "metadata": {},
     "output_type": "execute_result"
    }
   ],
   "source": [
    "related_artist_api_request"
   ]
  },
  {
   "cell_type": "code",
   "execution_count": 110,
   "id": "70bda7f1",
   "metadata": {
    "scrolled": false
   },
   "outputs": [],
   "source": [
    "related_artist_api_response = json.loads(related_artist_api_request.text)"
   ]
  },
  {
   "cell_type": "code",
   "execution_count": 111,
   "id": "7e87c6d9",
   "metadata": {},
   "outputs": [
    {
     "data": {
      "text/plain": [
       "{'artists': [{'external_urls': {'spotify': 'https://open.spotify.com/artist/2IAZ2xX1Ovh5jxhBWE7wda'},\n",
       "   'followers': {'href': None, 'total': 370407},\n",
       "   'genres': ['neo mellow'],\n",
       "   'href': 'https://api.spotify.com/v1/artists/2IAZ2xX1Ovh5jxhBWE7wda',\n",
       "   'id': '2IAZ2xX1Ovh5jxhBWE7wda',\n",
       "   'images': [{'height': 640,\n",
       "     'url': 'https://i.scdn.co/image/ab6761610000e5eb39566ca17a6bac6445e93cf0',\n",
       "     'width': 640},\n",
       "    {'height': 320,\n",
       "     'url': 'https://i.scdn.co/image/ab6761610000517439566ca17a6bac6445e93cf0',\n",
       "     'width': 320},\n",
       "    {'height': 160,\n",
       "     'url': 'https://i.scdn.co/image/ab6761610000f17839566ca17a6bac6445e93cf0',\n",
       "     'width': 160}],\n",
       "   'name': 'Donavon Frankenreiter',\n",
       "   'popularity': 59,\n",
       "   'type': 'artist',\n",
       "   'uri': 'spotify:artist:2IAZ2xX1Ovh5jxhBWE7wda'},\n",
       "  {'external_urls': {'spotify': 'https://open.spotify.com/artist/0EghvcisxKybq4CVO7rB5t'},\n",
       "   'followers': {'href': None, 'total': 80673},\n",
       "   'genres': ['acoustic pop', 'neo mellow'],\n",
       "   'href': 'https://api.spotify.com/v1/artists/0EghvcisxKybq4CVO7rB5t',\n",
       "   'id': '0EghvcisxKybq4CVO7rB5t',\n",
       "   'images': [{'height': 640,\n",
       "     'url': 'https://i.scdn.co/image/ab6761610000e5ebaeffc0dea7c7cc09b1f02cac',\n",
       "     'width': 640},\n",
       "    {'height': 320,\n",
       "     'url': 'https://i.scdn.co/image/ab67616100005174aeffc0dea7c7cc09b1f02cac',\n",
       "     'width': 320},\n",
       "    {'height': 160,\n",
       "     'url': 'https://i.scdn.co/image/ab6761610000f178aeffc0dea7c7cc09b1f02cac',\n",
       "     'width': 160}],\n",
       "   'name': 'Matt Costa',\n",
       "   'popularity': 46,\n",
       "   'type': 'artist',\n",
       "   'uri': 'spotify:artist:0EghvcisxKybq4CVO7rB5t'},\n",
       "  {'external_urls': {'spotify': 'https://open.spotify.com/artist/6v4jPZO3UIDNJIgdxRxtr9'},\n",
       "   'followers': {'href': None, 'total': 274719},\n",
       "   'genres': ['jam band',\n",
       "    'modern folk rock',\n",
       "    'neo mellow',\n",
       "    'pop rock',\n",
       "    'stomp and holler'],\n",
       "   'href': 'https://api.spotify.com/v1/artists/6v4jPZO3UIDNJIgdxRxtr9',\n",
       "   'id': '6v4jPZO3UIDNJIgdxRxtr9',\n",
       "   'images': [{'height': 640,\n",
       "     'url': 'https://i.scdn.co/image/ab6761610000e5eb9a8853c832eafba673f69e5b',\n",
       "     'width': 640},\n",
       "    {'height': 320,\n",
       "     'url': 'https://i.scdn.co/image/ab676161000051749a8853c832eafba673f69e5b',\n",
       "     'width': 320},\n",
       "    {'height': 160,\n",
       "     'url': 'https://i.scdn.co/image/ab6761610000f1789a8853c832eafba673f69e5b',\n",
       "     'width': 160}],\n",
       "   'name': 'DISPATCH',\n",
       "   'popularity': 56,\n",
       "   'type': 'artist',\n",
       "   'uri': 'spotify:artist:6v4jPZO3UIDNJIgdxRxtr9'},\n",
       "  {'external_urls': {'spotify': 'https://open.spotify.com/artist/74fkl73HDlCXw0l6cemB89'},\n",
       "   'followers': {'href': None, 'total': 193555},\n",
       "   'genres': ['jam band', 'pop rock'],\n",
       "   'href': 'https://api.spotify.com/v1/artists/74fkl73HDlCXw0l6cemB89',\n",
       "   'id': '74fkl73HDlCXw0l6cemB89',\n",
       "   'images': [{'height': 640,\n",
       "     'url': 'https://i.scdn.co/image/ab6761610000e5eb1f73ebaec1be48042b998dd6',\n",
       "     'width': 640},\n",
       "    {'height': 320,\n",
       "     'url': 'https://i.scdn.co/image/ab676161000051741f73ebaec1be48042b998dd6',\n",
       "     'width': 320},\n",
       "    {'height': 160,\n",
       "     'url': 'https://i.scdn.co/image/ab6761610000f1781f73ebaec1be48042b998dd6',\n",
       "     'width': 160}],\n",
       "   'name': 'G. Love & Special Sauce',\n",
       "   'popularity': 54,\n",
       "   'type': 'artist',\n",
       "   'uri': 'spotify:artist:74fkl73HDlCXw0l6cemB89'},\n",
       "  {'external_urls': {'spotify': 'https://open.spotify.com/artist/3RMHexittaAZkf8zukkZB8'},\n",
       "   'followers': {'href': None, 'total': 332901},\n",
       "   'genres': ['acoustic pop',\n",
       "    'high vibe',\n",
       "    'neo mellow',\n",
       "    'south carolina indie'],\n",
       "   'href': 'https://api.spotify.com/v1/artists/3RMHexittaAZkf8zukkZB8',\n",
       "   'id': '3RMHexittaAZkf8zukkZB8',\n",
       "   'images': [{'height': 640,\n",
       "     'url': 'https://i.scdn.co/image/ab6761610000e5eb0f23f87342ebc6b34089bc2c',\n",
       "     'width': 640},\n",
       "    {'height': 320,\n",
       "     'url': 'https://i.scdn.co/image/ab676161000051740f23f87342ebc6b34089bc2c',\n",
       "     'width': 320},\n",
       "    {'height': 160,\n",
       "     'url': 'https://i.scdn.co/image/ab6761610000f1780f23f87342ebc6b34089bc2c',\n",
       "     'width': 160}],\n",
       "   'name': 'Trevor Hall',\n",
       "   'popularity': 61,\n",
       "   'type': 'artist',\n",
       "   'uri': 'spotify:artist:3RMHexittaAZkf8zukkZB8'},\n",
       "  {'external_urls': {'spotify': 'https://open.spotify.com/artist/5HMFK1o5Bl9qY10PgavMhT'},\n",
       "   'followers': {'href': None, 'total': 20479},\n",
       "   'genres': ['acoustic pop', 'neo mellow'],\n",
       "   'href': 'https://api.spotify.com/v1/artists/5HMFK1o5Bl9qY10PgavMhT',\n",
       "   'id': '5HMFK1o5Bl9qY10PgavMhT',\n",
       "   'images': [{'height': 640,\n",
       "     'url': 'https://i.scdn.co/image/ab6761610000e5eb2b183ecc42b0012d7f89919b',\n",
       "     'width': 640},\n",
       "    {'height': 320,\n",
       "     'url': 'https://i.scdn.co/image/ab676161000051742b183ecc42b0012d7f89919b',\n",
       "     'width': 320},\n",
       "    {'height': 160,\n",
       "     'url': 'https://i.scdn.co/image/ab6761610000f1782b183ecc42b0012d7f89919b',\n",
       "     'width': 160}],\n",
       "   'name': 'Zach Gill',\n",
       "   'popularity': 44,\n",
       "   'type': 'artist',\n",
       "   'uri': 'spotify:artist:5HMFK1o5Bl9qY10PgavMhT'},\n",
       "  {'external_urls': {'spotify': 'https://open.spotify.com/artist/0FC1LIeQXKib0jOwZqeIwT'},\n",
       "   'followers': {'href': None, 'total': 190678},\n",
       "   'genres': ['acoustic pop',\n",
       "    'indie folk',\n",
       "    'neo mellow',\n",
       "    'pop rock',\n",
       "    'stomp and holler'],\n",
       "   'href': 'https://api.spotify.com/v1/artists/0FC1LIeQXKib0jOwZqeIwT',\n",
       "   'id': '0FC1LIeQXKib0jOwZqeIwT',\n",
       "   'images': [{'height': 640,\n",
       "     'url': 'https://i.scdn.co/image/ab6761610000e5eb66a465f79cf97eb534358232',\n",
       "     'width': 640},\n",
       "    {'height': 320,\n",
       "     'url': 'https://i.scdn.co/image/ab6761610000517466a465f79cf97eb534358232',\n",
       "     'width': 320},\n",
       "    {'height': 160,\n",
       "     'url': 'https://i.scdn.co/image/ab6761610000f17866a465f79cf97eb534358232',\n",
       "     'width': 160}],\n",
       "   'name': 'Brett Dennen',\n",
       "   'popularity': 53,\n",
       "   'type': 'artist',\n",
       "   'uri': 'spotify:artist:0FC1LIeQXKib0jOwZqeIwT'},\n",
       "  {'external_urls': {'spotify': 'https://open.spotify.com/artist/0QrowybipCKUDnq5y10PD2'},\n",
       "   'followers': {'href': None, 'total': 449308},\n",
       "   'genres': ['acoustic pop',\n",
       "    'indie folk',\n",
       "    'neo mellow',\n",
       "    'new americana',\n",
       "    'pop rock',\n",
       "    'stomp and holler'],\n",
       "   'href': 'https://api.spotify.com/v1/artists/0QrowybipCKUDnq5y10PD2',\n",
       "   'id': '0QrowybipCKUDnq5y10PD2',\n",
       "   'images': [{'height': 640,\n",
       "     'url': 'https://i.scdn.co/image/ab6761610000e5ebed691a5c06eb892ee2a7b8b0',\n",
       "     'width': 640},\n",
       "    {'height': 320,\n",
       "     'url': 'https://i.scdn.co/image/ab67616100005174ed691a5c06eb892ee2a7b8b0',\n",
       "     'width': 320},\n",
       "    {'height': 160,\n",
       "     'url': 'https://i.scdn.co/image/ab6761610000f178ed691a5c06eb892ee2a7b8b0',\n",
       "     'width': 160}],\n",
       "   'name': 'Amos Lee',\n",
       "   'popularity': 62,\n",
       "   'type': 'artist',\n",
       "   'uri': 'spotify:artist:0QrowybipCKUDnq5y10PD2'},\n",
       "  {'external_urls': {'spotify': 'https://open.spotify.com/artist/45lorWzrKLxfKlWpV7r9CN'},\n",
       "   'followers': {'href': None, 'total': 949117},\n",
       "   'genres': ['neo mellow', 'pastoral'],\n",
       "   'href': 'https://api.spotify.com/v1/artists/45lorWzrKLxfKlWpV7r9CN',\n",
       "   'id': '45lorWzrKLxfKlWpV7r9CN',\n",
       "   'images': [{'height': 640,\n",
       "     'url': 'https://i.scdn.co/image/ab6761610000e5eb335d3a49a350165c7926b213',\n",
       "     'width': 640},\n",
       "    {'height': 320,\n",
       "     'url': 'https://i.scdn.co/image/ab67616100005174335d3a49a350165c7926b213',\n",
       "     'width': 320},\n",
       "    {'height': 160,\n",
       "     'url': 'https://i.scdn.co/image/ab6761610000f178335d3a49a350165c7926b213',\n",
       "     'width': 160}],\n",
       "   'name': 'Ben Harper',\n",
       "   'popularity': 63,\n",
       "   'type': 'artist',\n",
       "   'uri': 'spotify:artist:45lorWzrKLxfKlWpV7r9CN'},\n",
       "  {'external_urls': {'spotify': 'https://open.spotify.com/artist/1DCRoiKOntBEezKXznDca4'},\n",
       "   'followers': {'href': None, 'total': 67970},\n",
       "   'genres': ['reggae rock', 'victoria bc indie'],\n",
       "   'href': 'https://api.spotify.com/v1/artists/1DCRoiKOntBEezKXznDca4',\n",
       "   'id': '1DCRoiKOntBEezKXznDca4',\n",
       "   'images': [{'height': 640,\n",
       "     'url': 'https://i.scdn.co/image/ab6761610000e5ebd53ffc4de6552adfe1207e16',\n",
       "     'width': 640},\n",
       "    {'height': 320,\n",
       "     'url': 'https://i.scdn.co/image/ab67616100005174d53ffc4de6552adfe1207e16',\n",
       "     'width': 320},\n",
       "    {'height': 160,\n",
       "     'url': 'https://i.scdn.co/image/ab6761610000f178d53ffc4de6552adfe1207e16',\n",
       "     'width': 160}],\n",
       "   'name': 'Current Swell',\n",
       "   'popularity': 53,\n",
       "   'type': 'artist',\n",
       "   'uri': 'spotify:artist:1DCRoiKOntBEezKXznDca4'},\n",
       "  {'external_urls': {'spotify': 'https://open.spotify.com/artist/0hDJSg859MdK4c9vqu1dS8'},\n",
       "   'followers': {'href': None, 'total': 106048},\n",
       "   'genres': ['australian reggae fusion'],\n",
       "   'href': 'https://api.spotify.com/v1/artists/0hDJSg859MdK4c9vqu1dS8',\n",
       "   'id': '0hDJSg859MdK4c9vqu1dS8',\n",
       "   'images': [{'height': 640,\n",
       "     'url': 'https://i.scdn.co/image/ab6761610000e5eb8cd96c03d9de442913fc73f5',\n",
       "     'width': 640},\n",
       "    {'height': 320,\n",
       "     'url': 'https://i.scdn.co/image/ab676161000051748cd96c03d9de442913fc73f5',\n",
       "     'width': 320},\n",
       "    {'height': 160,\n",
       "     'url': 'https://i.scdn.co/image/ab6761610000f1788cd96c03d9de442913fc73f5',\n",
       "     'width': 160}],\n",
       "   'name': 'The Beautiful Girls',\n",
       "   'popularity': 52,\n",
       "   'type': 'artist',\n",
       "   'uri': 'spotify:artist:0hDJSg859MdK4c9vqu1dS8'},\n",
       "  {'external_urls': {'spotify': 'https://open.spotify.com/artist/39x8gyJjTHiBQklFgVJSV4'},\n",
       "   'followers': {'href': None, 'total': 148637},\n",
       "   'genres': ['acoustic pop', 'neo mellow', 'pop rock'],\n",
       "   'href': 'https://api.spotify.com/v1/artists/39x8gyJjTHiBQklFgVJSV4',\n",
       "   'id': '39x8gyJjTHiBQklFgVJSV4',\n",
       "   'images': [{'height': 640,\n",
       "     'url': 'https://i.scdn.co/image/ab6761610000e5ebf45e3562bd7b797db46c6678',\n",
       "     'width': 640},\n",
       "    {'height': 320,\n",
       "     'url': 'https://i.scdn.co/image/ab67616100005174f45e3562bd7b797db46c6678',\n",
       "     'width': 320},\n",
       "    {'height': 160,\n",
       "     'url': 'https://i.scdn.co/image/ab6761610000f178f45e3562bd7b797db46c6678',\n",
       "     'width': 160}],\n",
       "   'name': 'Eric Hutchinson',\n",
       "   'popularity': 53,\n",
       "   'type': 'artist',\n",
       "   'uri': 'spotify:artist:39x8gyJjTHiBQklFgVJSV4'},\n",
       "  {'external_urls': {'spotify': 'https://open.spotify.com/artist/7enBrBojgBJuPPdqTq4Z5F'},\n",
       "   'followers': {'href': None, 'total': 333995},\n",
       "   'genres': ['neo mellow'],\n",
       "   'href': 'https://api.spotify.com/v1/artists/7enBrBojgBJuPPdqTq4Z5F',\n",
       "   'id': '7enBrBojgBJuPPdqTq4Z5F',\n",
       "   'images': [{'height': 640,\n",
       "     'url': 'https://i.scdn.co/image/ab6761610000e5eb00da59ffdca619d4fe7a43be',\n",
       "     'width': 640},\n",
       "    {'height': 320,\n",
       "     'url': 'https://i.scdn.co/image/ab6761610000517400da59ffdca619d4fe7a43be',\n",
       "     'width': 320},\n",
       "    {'height': 160,\n",
       "     'url': 'https://i.scdn.co/image/ab6761610000f17800da59ffdca619d4fe7a43be',\n",
       "     'width': 160}],\n",
       "   'name': 'Citizen Cope',\n",
       "   'popularity': 53,\n",
       "   'type': 'artist',\n",
       "   'uri': 'spotify:artist:7enBrBojgBJuPPdqTq4Z5F'},\n",
       "  {'external_urls': {'spotify': 'https://open.spotify.com/artist/65c0gzsw9JsPUxm09QPjQj'},\n",
       "   'followers': {'href': None, 'total': 45752},\n",
       "   'genres': ['jam band'],\n",
       "   'href': 'https://api.spotify.com/v1/artists/65c0gzsw9JsPUxm09QPjQj',\n",
       "   'id': '65c0gzsw9JsPUxm09QPjQj',\n",
       "   'images': [{'height': 640,\n",
       "     'url': 'https://i.scdn.co/image/ab6761610000e5eb3150e49289cc90e1abdcecc6',\n",
       "     'width': 640},\n",
       "    {'height': 320,\n",
       "     'url': 'https://i.scdn.co/image/ab676161000051743150e49289cc90e1abdcecc6',\n",
       "     'width': 320},\n",
       "    {'height': 160,\n",
       "     'url': 'https://i.scdn.co/image/ab6761610000f1783150e49289cc90e1abdcecc6',\n",
       "     'width': 160}],\n",
       "   'name': 'ALO',\n",
       "   'popularity': 47,\n",
       "   'type': 'artist',\n",
       "   'uri': 'spotify:artist:65c0gzsw9JsPUxm09QPjQj'},\n",
       "  {'external_urls': {'spotify': 'https://open.spotify.com/artist/5lbM4g6bhxjNX7R5QHP2nD'},\n",
       "   'followers': {'href': None, 'total': 641635},\n",
       "   'genres': ['australian indie folk', 'australian reggae fusion'],\n",
       "   'href': 'https://api.spotify.com/v1/artists/5lbM4g6bhxjNX7R5QHP2nD',\n",
       "   'id': '5lbM4g6bhxjNX7R5QHP2nD',\n",
       "   'images': [{'height': 640,\n",
       "     'url': 'https://i.scdn.co/image/ab6761610000e5eb0c898fe5227b012ee8e39e87',\n",
       "     'width': 640},\n",
       "    {'height': 320,\n",
       "     'url': 'https://i.scdn.co/image/ab676161000051740c898fe5227b012ee8e39e87',\n",
       "     'width': 320},\n",
       "    {'height': 160,\n",
       "     'url': 'https://i.scdn.co/image/ab6761610000f1780c898fe5227b012ee8e39e87',\n",
       "     'width': 160}],\n",
       "   'name': 'Xavier Rudd',\n",
       "   'popularity': 62,\n",
       "   'type': 'artist',\n",
       "   'uri': 'spotify:artist:5lbM4g6bhxjNX7R5QHP2nD'},\n",
       "  {'external_urls': {'spotify': 'https://open.spotify.com/artist/6DoH7ywD5BcQvjloe9OcIj'},\n",
       "   'followers': {'href': None, 'total': 961314},\n",
       "   'genres': ['acoustic pop',\n",
       "    'indie folk',\n",
       "    'neo mellow',\n",
       "    'new americana',\n",
       "    'stomp and holler'],\n",
       "   'href': 'https://api.spotify.com/v1/artists/6DoH7ywD5BcQvjloe9OcIj',\n",
       "   'id': '6DoH7ywD5BcQvjloe9OcIj',\n",
       "   'images': [{'height': 640,\n",
       "     'url': 'https://i.scdn.co/image/ab6761610000e5eb44ede429cd4a7a2bda7e6156',\n",
       "     'width': 640},\n",
       "    {'height': 320,\n",
       "     'url': 'https://i.scdn.co/image/ab6761610000517444ede429cd4a7a2bda7e6156',\n",
       "     'width': 320},\n",
       "    {'height': 160,\n",
       "     'url': 'https://i.scdn.co/image/ab6761610000f17844ede429cd4a7a2bda7e6156',\n",
       "     'width': 160}],\n",
       "   'name': 'Ray LaMontagne',\n",
       "   'popularity': 65,\n",
       "   'type': 'artist',\n",
       "   'uri': 'spotify:artist:6DoH7ywD5BcQvjloe9OcIj'},\n",
       "  {'external_urls': {'spotify': 'https://open.spotify.com/artist/2qxcnbn5lwXDZBU4CBLsrg'},\n",
       "   'followers': {'href': None, 'total': 39471},\n",
       "   'genres': ['folk-pop', 'neo mellow'],\n",
       "   'href': 'https://api.spotify.com/v1/artists/2qxcnbn5lwXDZBU4CBLsrg',\n",
       "   'id': '2qxcnbn5lwXDZBU4CBLsrg',\n",
       "   'images': [{'height': 640,\n",
       "     'url': 'https://i.scdn.co/image/ab6761610000e5ebb64e0255c3924f4c6618e10f',\n",
       "     'width': 640},\n",
       "    {'height': 320,\n",
       "     'url': 'https://i.scdn.co/image/ab67616100005174b64e0255c3924f4c6618e10f',\n",
       "     'width': 320},\n",
       "    {'height': 160,\n",
       "     'url': 'https://i.scdn.co/image/ab6761610000f178b64e0255c3924f4c6618e10f',\n",
       "     'width': 160}],\n",
       "   'name': 'Mat McHugh',\n",
       "   'popularity': 57,\n",
       "   'type': 'artist',\n",
       "   'uri': 'spotify:artist:2qxcnbn5lwXDZBU4CBLsrg'},\n",
       "  {'external_urls': {'spotify': 'https://open.spotify.com/artist/69NJDQCAGapYsKD2JuqQk5'},\n",
       "   'followers': {'href': None, 'total': 71979},\n",
       "   'genres': ['reggae rock'],\n",
       "   'href': 'https://api.spotify.com/v1/artists/69NJDQCAGapYsKD2JuqQk5',\n",
       "   'id': '69NJDQCAGapYsKD2JuqQk5',\n",
       "   'images': [{'height': 640,\n",
       "     'url': 'https://i.scdn.co/image/ab6761610000e5eb76e27b8912451fcc5e47f3ad',\n",
       "     'width': 640},\n",
       "    {'height': 320,\n",
       "     'url': 'https://i.scdn.co/image/ab6761610000517476e27b8912451fcc5e47f3ad',\n",
       "     'width': 320},\n",
       "    {'height': 160,\n",
       "     'url': 'https://i.scdn.co/image/ab6761610000f17876e27b8912451fcc5e47f3ad',\n",
       "     'width': 160}],\n",
       "   'name': 'Mishka',\n",
       "   'popularity': 45,\n",
       "   'type': 'artist',\n",
       "   'uri': 'spotify:artist:69NJDQCAGapYsKD2JuqQk5'},\n",
       "  {'external_urls': {'spotify': 'https://open.spotify.com/artist/0hEurMDQu99nJRq8pTxO14'},\n",
       "   'followers': {'href': None, 'total': 5740963},\n",
       "   'genres': ['neo mellow', 'singer-songwriter'],\n",
       "   'href': 'https://api.spotify.com/v1/artists/0hEurMDQu99nJRq8pTxO14',\n",
       "   'id': '0hEurMDQu99nJRq8pTxO14',\n",
       "   'images': [{'height': 640,\n",
       "     'url': 'https://i.scdn.co/image/ab6761610000e5eb265ef5547ecff4dabd6352bf',\n",
       "     'width': 640},\n",
       "    {'height': 320,\n",
       "     'url': 'https://i.scdn.co/image/ab67616100005174265ef5547ecff4dabd6352bf',\n",
       "     'width': 320},\n",
       "    {'height': 160,\n",
       "     'url': 'https://i.scdn.co/image/ab6761610000f178265ef5547ecff4dabd6352bf',\n",
       "     'width': 160}],\n",
       "   'name': 'John Mayer',\n",
       "   'popularity': 79,\n",
       "   'type': 'artist',\n",
       "   'uri': 'spotify:artist:0hEurMDQu99nJRq8pTxO14'},\n",
       "  {'external_urls': {'spotify': 'https://open.spotify.com/artist/1qAMxE8YRo3KREMiKiyUkV'},\n",
       "   'followers': {'href': None, 'total': 149166},\n",
       "   'genres': ['australian pop', 'australian rock', 'pop rock'],\n",
       "   'href': 'https://api.spotify.com/v1/artists/1qAMxE8YRo3KREMiKiyUkV',\n",
       "   'id': '1qAMxE8YRo3KREMiKiyUkV',\n",
       "   'images': [{'height': 640,\n",
       "     'url': 'https://i.scdn.co/image/ab6761610000e5ebe19ce3bff40401626af63a4a',\n",
       "     'width': 640},\n",
       "    {'height': 320,\n",
       "     'url': 'https://i.scdn.co/image/ab67616100005174e19ce3bff40401626af63a4a',\n",
       "     'width': 320},\n",
       "    {'height': 160,\n",
       "     'url': 'https://i.scdn.co/image/ab6761610000f178e19ce3bff40401626af63a4a',\n",
       "     'width': 160}],\n",
       "   'name': 'Pete Murray',\n",
       "   'popularity': 51,\n",
       "   'type': 'artist',\n",
       "   'uri': 'spotify:artist:1qAMxE8YRo3KREMiKiyUkV'}]}"
      ]
     },
     "execution_count": 111,
     "metadata": {},
     "output_type": "execute_result"
    }
   ],
   "source": [
    "related_artist_api_response"
   ]
  },
  {
   "cell_type": "code",
   "execution_count": 112,
   "id": "18519c60",
   "metadata": {},
   "outputs": [
    {
     "data": {
      "text/plain": [
       "list"
      ]
     },
     "execution_count": 112,
     "metadata": {},
     "output_type": "execute_result"
    }
   ],
   "source": [
    "type(related_artist_api_response['artists'])"
   ]
  },
  {
   "cell_type": "code",
   "execution_count": 113,
   "id": "76d3b7a9",
   "metadata": {},
   "outputs": [
    {
     "data": {
      "text/plain": [
       "20"
      ]
     },
     "execution_count": 113,
     "metadata": {},
     "output_type": "execute_result"
    }
   ],
   "source": [
    "len(related_artist_api_response['artists'])"
   ]
  },
  {
   "cell_type": "code",
   "execution_count": 114,
   "id": "eb5a737b",
   "metadata": {},
   "outputs": [
    {
     "data": {
      "text/plain": [
       "{'external_urls': {'spotify': 'https://open.spotify.com/artist/2IAZ2xX1Ovh5jxhBWE7wda'},\n",
       " 'followers': {'href': None, 'total': 370407},\n",
       " 'genres': ['neo mellow'],\n",
       " 'href': 'https://api.spotify.com/v1/artists/2IAZ2xX1Ovh5jxhBWE7wda',\n",
       " 'id': '2IAZ2xX1Ovh5jxhBWE7wda',\n",
       " 'images': [{'height': 640,\n",
       "   'url': 'https://i.scdn.co/image/ab6761610000e5eb39566ca17a6bac6445e93cf0',\n",
       "   'width': 640},\n",
       "  {'height': 320,\n",
       "   'url': 'https://i.scdn.co/image/ab6761610000517439566ca17a6bac6445e93cf0',\n",
       "   'width': 320},\n",
       "  {'height': 160,\n",
       "   'url': 'https://i.scdn.co/image/ab6761610000f17839566ca17a6bac6445e93cf0',\n",
       "   'width': 160}],\n",
       " 'name': 'Donavon Frankenreiter',\n",
       " 'popularity': 59,\n",
       " 'type': 'artist',\n",
       " 'uri': 'spotify:artist:2IAZ2xX1Ovh5jxhBWE7wda'}"
      ]
     },
     "execution_count": 114,
     "metadata": {},
     "output_type": "execute_result"
    }
   ],
   "source": [
    "related_artist_api_response['artists'][0]"
   ]
  },
  {
   "cell_type": "code",
   "execution_count": 115,
   "id": "89aafefb",
   "metadata": {},
   "outputs": [
    {
     "data": {
      "text/plain": [
       "'Donavon Frankenreiter'"
      ]
     },
     "execution_count": 115,
     "metadata": {},
     "output_type": "execute_result"
    }
   ],
   "source": [
    "related_artist_api_response['artists'][0]['name']"
   ]
  },
  {
   "cell_type": "code",
   "execution_count": 116,
   "id": "facf6574",
   "metadata": {},
   "outputs": [
    {
     "name": "stdout",
     "output_type": "stream",
     "text": [
      "{'external_urls': {'spotify': 'https://open.spotify.com/artist/2IAZ2xX1Ovh5jxhBWE7wda'}, 'followers': {'href': None, 'total': 370407}, 'genres': ['neo mellow'], 'href': 'https://api.spotify.com/v1/artists/2IAZ2xX1Ovh5jxhBWE7wda', 'id': '2IAZ2xX1Ovh5jxhBWE7wda', 'images': [{'height': 640, 'url': 'https://i.scdn.co/image/ab6761610000e5eb39566ca17a6bac6445e93cf0', 'width': 640}, {'height': 320, 'url': 'https://i.scdn.co/image/ab6761610000517439566ca17a6bac6445e93cf0', 'width': 320}, {'height': 160, 'url': 'https://i.scdn.co/image/ab6761610000f17839566ca17a6bac6445e93cf0', 'width': 160}], 'name': 'Donavon Frankenreiter', 'popularity': 59, 'type': 'artist', 'uri': 'spotify:artist:2IAZ2xX1Ovh5jxhBWE7wda'}\n",
      "Donavon Frankenreiter\n",
      "2IAZ2xX1Ovh5jxhBWE7wda\n",
      "--------------------------------------------------\n",
      "{'external_urls': {'spotify': 'https://open.spotify.com/artist/0EghvcisxKybq4CVO7rB5t'}, 'followers': {'href': None, 'total': 80673}, 'genres': ['acoustic pop', 'neo mellow'], 'href': 'https://api.spotify.com/v1/artists/0EghvcisxKybq4CVO7rB5t', 'id': '0EghvcisxKybq4CVO7rB5t', 'images': [{'height': 640, 'url': 'https://i.scdn.co/image/ab6761610000e5ebaeffc0dea7c7cc09b1f02cac', 'width': 640}, {'height': 320, 'url': 'https://i.scdn.co/image/ab67616100005174aeffc0dea7c7cc09b1f02cac', 'width': 320}, {'height': 160, 'url': 'https://i.scdn.co/image/ab6761610000f178aeffc0dea7c7cc09b1f02cac', 'width': 160}], 'name': 'Matt Costa', 'popularity': 46, 'type': 'artist', 'uri': 'spotify:artist:0EghvcisxKybq4CVO7rB5t'}\n",
      "Matt Costa\n",
      "0EghvcisxKybq4CVO7rB5t\n",
      "--------------------------------------------------\n",
      "{'external_urls': {'spotify': 'https://open.spotify.com/artist/6v4jPZO3UIDNJIgdxRxtr9'}, 'followers': {'href': None, 'total': 274719}, 'genres': ['jam band', 'modern folk rock', 'neo mellow', 'pop rock', 'stomp and holler'], 'href': 'https://api.spotify.com/v1/artists/6v4jPZO3UIDNJIgdxRxtr9', 'id': '6v4jPZO3UIDNJIgdxRxtr9', 'images': [{'height': 640, 'url': 'https://i.scdn.co/image/ab6761610000e5eb9a8853c832eafba673f69e5b', 'width': 640}, {'height': 320, 'url': 'https://i.scdn.co/image/ab676161000051749a8853c832eafba673f69e5b', 'width': 320}, {'height': 160, 'url': 'https://i.scdn.co/image/ab6761610000f1789a8853c832eafba673f69e5b', 'width': 160}], 'name': 'DISPATCH', 'popularity': 56, 'type': 'artist', 'uri': 'spotify:artist:6v4jPZO3UIDNJIgdxRxtr9'}\n",
      "DISPATCH\n",
      "6v4jPZO3UIDNJIgdxRxtr9\n",
      "--------------------------------------------------\n"
     ]
    }
   ],
   "source": [
    "selected_related_artists = {}\n",
    "\n",
    "for artist in related_artist_api_response['artists'][0:3]:\n",
    "    print(artist)\n",
    "    \n",
    "    print(artist['name'])\n",
    "    print(artist['id'])\n",
    "    selected_related_artists[artist['name']] = artist['id']\n",
    "    print('-' * 50)\n",
    "    "
   ]
  },
  {
   "cell_type": "code",
   "execution_count": 117,
   "id": "cad8ee89",
   "metadata": {},
   "outputs": [
    {
     "data": {
      "text/plain": [
       "{'Donavon Frankenreiter': '2IAZ2xX1Ovh5jxhBWE7wda',\n",
       " 'Matt Costa': '0EghvcisxKybq4CVO7rB5t',\n",
       " 'DISPATCH': '6v4jPZO3UIDNJIgdxRxtr9'}"
      ]
     },
     "execution_count": 117,
     "metadata": {},
     "output_type": "execute_result"
    }
   ],
   "source": [
    "selected_related_artists"
   ]
  },
  {
   "cell_type": "code",
   "execution_count": 118,
   "id": "540a9f23",
   "metadata": {},
   "outputs": [],
   "source": [
    "selected_related_artists[source_artist_name] = source_artist_id"
   ]
  },
  {
   "cell_type": "code",
   "execution_count": 119,
   "id": "6d275327",
   "metadata": {},
   "outputs": [
    {
     "data": {
      "text/plain": [
       "{'Donavon Frankenreiter': '2IAZ2xX1Ovh5jxhBWE7wda',\n",
       " 'Matt Costa': '0EghvcisxKybq4CVO7rB5t',\n",
       " 'DISPATCH': '6v4jPZO3UIDNJIgdxRxtr9',\n",
       " 'Jack Johnson': '3GBPw9NK25X1Wt2OUvOwY3'}"
      ]
     },
     "execution_count": 119,
     "metadata": {},
     "output_type": "execute_result"
    }
   ],
   "source": [
    "selected_related_artists"
   ]
  },
  {
   "cell_type": "markdown",
   "id": "a95ddb96",
   "metadata": {},
   "source": [
    "# Create Playlist"
   ]
  },
  {
   "cell_type": "code",
   "execution_count": 120,
   "id": "1fefc87d",
   "metadata": {},
   "outputs": [],
   "source": [
    "user_id = 'speedy.fish'"
   ]
  },
  {
   "cell_type": "code",
   "execution_count": 121,
   "id": "c4126eb8",
   "metadata": {},
   "outputs": [],
   "source": [
    "playlist_endpoint_url = f'https://api.spotify.com/v1/users/{user_id}/playlists'\n",
    "\n",
    "request_body = json.dumps({\n",
    "    'name':f'{source_artist_name} Mixtape',\n",
    "    'description':f'Python-generated playlist using artists related to {source_artist_name}',\n",
    "    'public':False\n",
    "})\n",
    "\n",
    "# post\n",
    "playlist_api_request = requests.post(playlist_endpoint_url, headers = headers, data = request_body)"
   ]
  },
  {
   "cell_type": "code",
   "execution_count": 122,
   "id": "03517caa",
   "metadata": {},
   "outputs": [
    {
     "data": {
      "text/plain": [
       "<Response [201]>"
      ]
     },
     "execution_count": 122,
     "metadata": {},
     "output_type": "execute_result"
    }
   ],
   "source": [
    "playlist_api_request"
   ]
  },
  {
   "cell_type": "code",
   "execution_count": 123,
   "id": "037f8276",
   "metadata": {},
   "outputs": [
    {
     "data": {
      "text/plain": [
       "{'collaborative': False,\n",
       " 'description': 'Python-generated playlist using artists related to Jack Johnson',\n",
       " 'external_urls': {'spotify': 'https://open.spotify.com/playlist/3wzQTCw5cnKB0aTRCbgJFW'},\n",
       " 'followers': {'href': None, 'total': 0},\n",
       " 'href': 'https://api.spotify.com/v1/playlists/3wzQTCw5cnKB0aTRCbgJFW',\n",
       " 'id': '3wzQTCw5cnKB0aTRCbgJFW',\n",
       " 'images': [],\n",
       " 'name': 'Jack Johnson Mixtape',\n",
       " 'owner': {'display_name': 'speedy.fish',\n",
       "  'external_urls': {'spotify': 'https://open.spotify.com/user/speedy.fish'},\n",
       "  'href': 'https://api.spotify.com/v1/users/speedy.fish',\n",
       "  'id': 'speedy.fish',\n",
       "  'type': 'user',\n",
       "  'uri': 'spotify:user:speedy.fish'},\n",
       " 'primary_color': None,\n",
       " 'public': False,\n",
       " 'snapshot_id': 'MSw0ZmRkNWQyMTYyN2JkZjMyNTlmYTk0ZjQ0YWRhMzljZDA0NDdjZjU1',\n",
       " 'tracks': {'href': 'https://api.spotify.com/v1/playlists/3wzQTCw5cnKB0aTRCbgJFW/tracks',\n",
       "  'items': [],\n",
       "  'limit': 100,\n",
       "  'next': None,\n",
       "  'offset': 0,\n",
       "  'previous': None,\n",
       "  'total': 0},\n",
       " 'type': 'playlist',\n",
       " 'uri': 'spotify:playlist:3wzQTCw5cnKB0aTRCbgJFW'}"
      ]
     },
     "execution_count": 123,
     "metadata": {},
     "output_type": "execute_result"
    }
   ],
   "source": [
    "json.loads(playlist_api_request.text)"
   ]
  },
  {
   "cell_type": "code",
   "execution_count": 124,
   "id": "ae7144db",
   "metadata": {},
   "outputs": [],
   "source": [
    "playlists_api_response = json.loads(playlist_api_request.text)"
   ]
  },
  {
   "cell_type": "code",
   "execution_count": 125,
   "id": "cd123ab4",
   "metadata": {},
   "outputs": [
    {
     "data": {
      "text/plain": [
       "'3wzQTCw5cnKB0aTRCbgJFW'"
      ]
     },
     "execution_count": 125,
     "metadata": {},
     "output_type": "execute_result"
    }
   ],
   "source": [
    "playlists_api_response['id']"
   ]
  },
  {
   "cell_type": "code",
   "execution_count": 126,
   "id": "b021acc9",
   "metadata": {},
   "outputs": [],
   "source": [
    "playlist_id = playlists_api_response['id']"
   ]
  },
  {
   "cell_type": "code",
   "execution_count": 127,
   "id": "0fef7a30",
   "metadata": {},
   "outputs": [
    {
     "data": {
      "text/plain": [
       "'https://open.spotify.com/playlist/3wzQTCw5cnKB0aTRCbgJFW'"
      ]
     },
     "execution_count": 127,
     "metadata": {},
     "output_type": "execute_result"
    }
   ],
   "source": [
    "playlists_api_response['external_urls']['spotify']"
   ]
  },
  {
   "cell_type": "code",
   "execution_count": 128,
   "id": "ad3dd92d",
   "metadata": {},
   "outputs": [],
   "source": [
    "playlist_url = playlists_api_response['external_urls']['spotify']"
   ]
  },
  {
   "cell_type": "markdown",
   "id": "5081dba6",
   "metadata": {},
   "source": [
    "# Get Artist's Top Tracks and Insert Into Playlist"
   ]
  },
  {
   "cell_type": "code",
   "execution_count": 134,
   "id": "abec5510",
   "metadata": {},
   "outputs": [
    {
     "name": "stdout",
     "output_type": "stream",
     "text": [
      "Donavon Frankenreiter 2IAZ2xX1Ovh5jxhBWE7wda\n",
      "Donavon Frankenreiter Free spotify:track:2BJy5YrRMhVCqaLNY5cbv2\n",
      "Donavon Frankenreiter It Don't Matter spotify:track:2UjGyCvayHjGihV3oLhD8a\n",
      "Donavon Frankenreiter Big Wave spotify:track:5OZ9IQhS8bVr5TJsEgL8l4\n",
      "Donavon Frankenreiter What'cha Know About spotify:track:5UewA4LJwHD3KqEuD0iwXD\n",
      "Donavon Frankenreiter On My Mind spotify:track:2Ztu9QCMySsXe4zBWsWqcd\n",
      "--------------------------------------------------\n",
      "Matt Costa 0EghvcisxKybq4CVO7rB5t\n",
      "Matt Costa Sunshine spotify:track:7c7v0eruo9n6vIBQDfIWHd\n",
      "Matt Costa Call My Name spotify:track:29y7Pj8dCyFq1grydLdHJH\n",
      "Matt Costa The Road spotify:track:1xslSq8N9D5TiNqbh4LZqp\n",
      "Matt Costa Mr. Pitiful spotify:track:2fZBjgofYKkUjV9LkMgWYM\n",
      "Matt Costa All I Want For Christmas spotify:track:6Gf2PtgVBEHuh989zY0vo7\n",
      "--------------------------------------------------\n",
      "DISPATCH 6v4jPZO3UIDNJIgdxRxtr9\n",
      "DISPATCH The General spotify:track:6n6EXIwLtNwe4u4CFzENYm\n",
      "DISPATCH Only the Wild Ones spotify:track:3LwjMORRPuf7j7WiFHW350\n",
      "DISPATCH Bang Bang spotify:track:2yGoiZes2YcueNA4nGDmdS\n",
      "DISPATCH Two Coins spotify:track:0wsis8nb0CLqWoRvEPvwiS\n",
      "DISPATCH Midnight Lorry spotify:track:1BYldNpfLyeUBb5jofJlYo\n",
      "--------------------------------------------------\n",
      "Jack Johnson 3GBPw9NK25X1Wt2OUvOwY3\n",
      "Jack Johnson Better Together spotify:track:4VywXu6umkIQ2OS0m1I79y\n",
      "Jack Johnson Upside Down spotify:track:0aJrYfARfCKzv6gXjhs4SZ\n",
      "Jack Johnson Banana Pancakes spotify:track:451GvHwY99NKV4zdKPRWmv\n",
      "Jack Johnson Sitting, Waiting, Wishing spotify:track:5eWOsyHHic4vJP3LjTVhqv\n",
      "Jack Johnson Roll Me Up and Smoke Me When I Die - Live spotify:track:5iis9J2sptrUy0VIpFVIg1\n",
      "--------------------------------------------------\n"
     ]
    }
   ],
   "source": [
    "selected_tracks_uris = []\n",
    "\n",
    "for artist in selected_related_artists:\n",
    "    print(artist, selected_related_artists[artist])\n",
    "    artist_id = selected_related_artists[artist]\n",
    "    artist_top_tracks_endpoint_url = f'https://api.spotify.com/v1/artists/{artist_id}/top-tracks'\n",
    "    \n",
    "    # Same as market\n",
    "    params = {'country':'US'}\n",
    "    \n",
    "    artist_top_tracks_api_request = requests.get(artist_top_tracks_endpoint_url, headers = headers, params = params)\n",
    "    \n",
    "    artist_top_tracks_api_response = json.loads(artist_top_tracks_api_request.text)\n",
    "    \n",
    "    for track in artist_top_tracks_api_response['tracks'][0:5]:\n",
    "        print(artist, track['name'], track['uri'])\n",
    "        selected_tracks_uris.append(track['uri'])\n",
    "    \n",
    "    print('-' * 50)"
   ]
  },
  {
   "cell_type": "code",
   "execution_count": 135,
   "id": "6fa7d941",
   "metadata": {},
   "outputs": [
    {
     "data": {
      "text/plain": [
       "['spotify:track:2BJy5YrRMhVCqaLNY5cbv2',\n",
       " 'spotify:track:2UjGyCvayHjGihV3oLhD8a',\n",
       " 'spotify:track:5OZ9IQhS8bVr5TJsEgL8l4',\n",
       " 'spotify:track:5UewA4LJwHD3KqEuD0iwXD',\n",
       " 'spotify:track:2Ztu9QCMySsXe4zBWsWqcd',\n",
       " 'spotify:track:7c7v0eruo9n6vIBQDfIWHd',\n",
       " 'spotify:track:29y7Pj8dCyFq1grydLdHJH',\n",
       " 'spotify:track:1xslSq8N9D5TiNqbh4LZqp',\n",
       " 'spotify:track:2fZBjgofYKkUjV9LkMgWYM',\n",
       " 'spotify:track:6Gf2PtgVBEHuh989zY0vo7',\n",
       " 'spotify:track:6n6EXIwLtNwe4u4CFzENYm',\n",
       " 'spotify:track:3LwjMORRPuf7j7WiFHW350',\n",
       " 'spotify:track:2yGoiZes2YcueNA4nGDmdS',\n",
       " 'spotify:track:0wsis8nb0CLqWoRvEPvwiS',\n",
       " 'spotify:track:1BYldNpfLyeUBb5jofJlYo',\n",
       " 'spotify:track:4VywXu6umkIQ2OS0m1I79y',\n",
       " 'spotify:track:0aJrYfARfCKzv6gXjhs4SZ',\n",
       " 'spotify:track:451GvHwY99NKV4zdKPRWmv',\n",
       " 'spotify:track:5eWOsyHHic4vJP3LjTVhqv',\n",
       " 'spotify:track:5iis9J2sptrUy0VIpFVIg1']"
      ]
     },
     "execution_count": 135,
     "metadata": {},
     "output_type": "execute_result"
    }
   ],
   "source": [
    "selected_tracks_uris"
   ]
  },
  {
   "cell_type": "code",
   "execution_count": 138,
   "id": "1df54881",
   "metadata": {},
   "outputs": [],
   "source": [
    "playlist_tracks_endpoint_url = f'https://api.spotify.com/v1/playlists/{playlist_id}/tracks'\n",
    "\n",
    "request_body = json.dumps({\n",
    "    'uris':selected_tracks_uris\n",
    "})\n",
    "playlists_tracks_api_request = requests.post(playlist_tracks_endpoint_url, headers = headers, data = request_body)"
   ]
  },
  {
   "cell_type": "code",
   "execution_count": 139,
   "id": "7fdc06e2",
   "metadata": {},
   "outputs": [
    {
     "data": {
      "text/plain": [
       "<Response [201]>"
      ]
     },
     "execution_count": 139,
     "metadata": {},
     "output_type": "execute_result"
    }
   ],
   "source": [
    "playlists_tracks_api_request"
   ]
  }
 ],
 "metadata": {
  "colab": {
   "provenance": []
  },
  "kernelspec": {
   "display_name": "Python 3 (ipykernel)",
   "language": "python",
   "name": "python3"
  },
  "language_info": {
   "codemirror_mode": {
    "name": "ipython",
    "version": 3
   },
   "file_extension": ".py",
   "mimetype": "text/x-python",
   "name": "python",
   "nbconvert_exporter": "python",
   "pygments_lexer": "ipython3",
   "version": "3.9.7"
  }
 },
 "nbformat": 4,
 "nbformat_minor": 5
}
